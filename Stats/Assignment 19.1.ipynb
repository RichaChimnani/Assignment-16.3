{
 "cells": [
  {
   "cell_type": "markdown",
   "metadata": {},
   "source": [
    "# Assignment 19.1"
   ]
  },
  {
   "cell_type": "markdown",
   "metadata": {},
   "source": [
    "\n",
    "Is gender independent of education level? A random sample of 395 people were surveyed and each person was asked to report\n",
    "the highest education level they obtained. The data that resulted from the survey is summarized in the following table:\n",
    "\n",
    "     High School Bachelors Masters Ph.d.   Total\n",
    "\n",
    "Female  60        54         46      41     201\n",
    "\n",
    "Male    40        44         53      57     194\n",
    "\n",
    "Total   100       98         99      98     395\n",
    "\n",
    "Question: Are gender and education level dependent at 5% level of significance? In other words, given the data collected \n",
    "above, is there a relationship between the gender of an individual and the level of education that they have obtained?\n"
   ]
  },
  {
   "cell_type": "markdown",
   "metadata": {},
   "source": [
    "# We will be following steps to solve this problem: \n",
    "1. State the hypotheses. \n",
    "2. Formulate an analysis plan. \n",
    "3. Analyze sample data "
   ]
  },
  {
   "cell_type": "markdown",
   "metadata": {},
   "source": [
    "# Step 1: State the hypotheses\n",
    "    \n",
    "H0 (Null hypotheses)      : Gender and level of education are independent.\n",
    "\n",
    "H1 (Alternate hypotheses) : Gender and level of education are dependent."
   ]
  },
  {
   "cell_type": "markdown",
   "metadata": {},
   "source": [
    "# Step 2: Formulate an analysis plan. \n",
    "For this analysis, the significance level is 0.05. Using sample data, we will conduct a chi-square test for independence."
   ]
  },
  {
   "cell_type": "code",
   "execution_count": 1,
   "metadata": {},
   "outputs": [],
   "source": [
    "import numpy as np\n",
    "import pandas as pd\n",
    "import scipy.stats as stats"
   ]
  },
  {
   "cell_type": "code",
   "execution_count": 2,
   "metadata": {},
   "outputs": [],
   "source": [
    "Females = [60,54,46,41]\n",
    "\n",
    "Males   = [40,44,53,57]"
   ]
  },
  {
   "cell_type": "code",
   "execution_count": 3,
   "metadata": {},
   "outputs": [
    {
     "data": {
      "text/plain": [
       "Power_divergenceResult(statistic=15.827638348847257, pvalue=0.001230081983416058)"
      ]
     },
     "execution_count": 3,
     "metadata": {},
     "output_type": "execute_result"
    }
   ],
   "source": [
    "stats.chisquare(Males,Females)"
   ]
  },
  {
   "cell_type": "markdown",
   "metadata": {},
   "source": [
    "# Step 3: Analyze sample data. \n",
    "Applying the chi-square test for independence to sample data, we compute the degrees of freedom, the expected frequency \n",
    "counts, and the chi-square test statistic. Based on the chi-square statistic and the degrees of freedom, we determine \n",
    "the P-value. "
   ]
  },
  {
   "cell_type": "markdown",
   "metadata": {},
   "source": [
    "Since the P-value (0.00123) is less than the significance level (0.05), we cannot accept the null hypothesis. \n",
    "Thus, we conclude that there is a relationship between gender and level of education."
   ]
  },
  {
   "cell_type": "code",
   "execution_count": null,
   "metadata": {},
   "outputs": [],
   "source": []
  },
  {
   "cell_type": "code",
   "execution_count": null,
   "metadata": {},
   "outputs": [],
   "source": []
  }
 ],
 "metadata": {
  "kernelspec": {
   "display_name": "Python 3",
   "language": "python",
   "name": "python3"
  },
  "language_info": {
   "codemirror_mode": {
    "name": "ipython",
    "version": 3
   },
   "file_extension": ".py",
   "mimetype": "text/x-python",
   "name": "python",
   "nbconvert_exporter": "python",
   "pygments_lexer": "ipython3",
   "version": "3.6.4"
  }
 },
 "nbformat": 4,
 "nbformat_minor": 2
}
