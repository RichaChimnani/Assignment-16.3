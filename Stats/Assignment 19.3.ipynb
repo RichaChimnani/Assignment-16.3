{
 "cells": [
  {
   "cell_type": "markdown",
   "metadata": {},
   "source": [
    "# Assignment 19.3\n",
    "\n",
    "Calculate F Test for given 10, 20, 30, 40, 50 and 5,10,15, 20, 25.\n",
    "\n",
    "For 10, 20, 30, 40, 50:"
   ]
  },
  {
   "cell_type": "markdown",
   "metadata": {},
   "source": [
    "# Solution:\n",
    "What is F-test"
   ]
  },
  {
   "cell_type": "markdown",
   "metadata": {},
   "source": [
    "F-test is a statistical test that is used to determine whether two populations having normal distribution have the same \n",
    "variances or standard deviation. This is an important part of Analysis of Variance (ANOVA). However in case the population \n",
    "is non normal, F test may not be used and alternate tests like Bartlett’s test may be used. Generally the comparison of \n",
    "variance is done by comparing the ratio of two variances and in case they are equal the ratio of variances are equal.\n",
    "\n",
    "In order to carry out the F test we need to first determine the level of significance and then find out the degrees of \n",
    "freedom of numerator and denominator  in order to determine the critical values. The null hypothesis in this case is , \n",
    "H0 : and an appropriate alternate hypothesis is to be used. The F value is calculated as F. Also the degrees of freedom \n",
    "are n-1 and m-1. This is then compared to the table value of F Statistic for the required confidence interval and degrees \n",
    "of freedom.\n"
   ]
  },
  {
   "cell_type": "markdown",
   "metadata": {},
   "source": [
    "H0: The variances are equal\n",
    "\n",
    "H1: The variances are not equal "
   ]
  },
  {
   "cell_type": "code",
   "execution_count": 2,
   "metadata": {},
   "outputs": [],
   "source": [
    "import pandas as pd\n",
    "import numpy as np\n",
    "import scipy.stats as stat\n"
   ]
  },
  {
   "cell_type": "code",
   "execution_count": 3,
   "metadata": {},
   "outputs": [],
   "source": [
    "A = [10,20,30,40,50]\n",
    "\n",
    "B = [5,10,15,20,25]"
   ]
  },
  {
   "cell_type": "code",
   "execution_count": 4,
   "metadata": {},
   "outputs": [
    {
     "name": "stdout",
     "output_type": "stream",
     "text": [
      "Variance of A =  200.0\n"
     ]
    }
   ],
   "source": [
    "A_var = np.var(A)                                   # variance of A\n",
    "print(\"Variance of A = \", +A_var)"
   ]
  },
  {
   "cell_type": "code",
   "execution_count": 5,
   "metadata": {},
   "outputs": [
    {
     "name": "stdout",
     "output_type": "stream",
     "text": [
      "Variance of B =  50.0\n"
     ]
    }
   ],
   "source": [
    "B_var = np.var(B)                                   # variance of B\n",
    "print(\"Variance of B = \", +B_var)"
   ]
  },
  {
   "cell_type": "code",
   "execution_count": 6,
   "metadata": {},
   "outputs": [
    {
     "name": "stdout",
     "output_type": "stream",
     "text": [
      "F-test value =  4.0\n"
     ]
    }
   ],
   "source": [
    "F_test = A_var / B_var                              # F-test is ratio of variance\n",
    "print(\"F-test value = \", +F_test)"
   ]
  },
  {
   "cell_type": "code",
   "execution_count": 7,
   "metadata": {},
   "outputs": [],
   "source": [
    "n1 = 4                                              # degree of freedom (n-1) i.e (5-1)\n",
    "m1 = 4                                              # degree of freedom (m-1) i.e (5-1)"
   ]
  },
  {
   "cell_type": "markdown",
   "metadata": {},
   "source": [
    "Since significance level is not given we will assume alpha = .05"
   ]
  },
  {
   "cell_type": "code",
   "execution_count": 8,
   "metadata": {},
   "outputs": [
    {
     "name": "stdout",
     "output_type": "stream",
     "text": [
      "p_value =  0.10400000000000002\n"
     ]
    }
   ],
   "source": [
    "alpha = 0.05 \n",
    "\n",
    "p_value = stat.f.sf(F_test, n1, m1)\n",
    "\n",
    "print(\"p_value = \", +p_value)"
   ]
  },
  {
   "cell_type": "code",
   "execution_count": 9,
   "metadata": {},
   "outputs": [
    {
     "name": "stdout",
     "output_type": "stream",
     "text": [
      "Accept null hypothesis that varaiance are equal\n"
     ]
    }
   ],
   "source": [
    "if p_value < alpha:\n",
    "    print('Reject null hypothesis that varaiance are equal')\n",
    "else:\n",
    "    print('Accept null hypothesis that varaiance are equal')"
   ]
  }
 ],
 "metadata": {
  "kernelspec": {
   "display_name": "Python 3",
   "language": "python",
   "name": "python3"
  },
  "language_info": {
   "codemirror_mode": {
    "name": "ipython",
    "version": 3
   },
   "file_extension": ".py",
   "mimetype": "text/x-python",
   "name": "python",
   "nbconvert_exporter": "python",
   "pygments_lexer": "ipython3",
   "version": "3.6.4"
  }
 },
 "nbformat": 4,
 "nbformat_minor": 2
}
