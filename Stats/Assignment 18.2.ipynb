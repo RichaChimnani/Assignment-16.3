{
 "cells": [
  {
   "cell_type": "markdown",
   "metadata": {},
   "source": [
    "# Assignment 18.2"
   ]
  },
  {
   "cell_type": "markdown",
   "metadata": {},
   "source": [
    "In one state, 52% of the voters are Republicans, and 48% are Democrats. In a second state, 47% of the voters are Republicans,\n",
    "and 53% are Democrats. Suppose a simple random sample of 100 voters are surveyed from each state. What is the probability \n",
    "that the survey will show a greater percentage of Republican voters in the second state than in the first state?"
   ]
  },
  {
   "cell_type": "code",
   "execution_count": 1,
   "metadata": {},
   "outputs": [],
   "source": [
    "import numpy as np\n",
    "import scipy.stats as stats\n",
    "import scipy\n",
    "import math"
   ]
  },
  {
   "cell_type": "code",
   "execution_count": 2,
   "metadata": {},
   "outputs": [],
   "source": [
    "R1 = 0.52    # The proportion of Republican voters in the first state\n",
    "R2 = 0.47    # The proportion of Republican voters in the second state \n",
    "D1 = .48     # The proportion of Democrats voters in the first state\n",
    "D2 = .53     # The proportion of Democrats voters in the second state\n",
    "\n",
    "n = 100      # sample size"
   ]
  },
  {
   "cell_type": "markdown",
   "metadata": {},
   "source": [
    "First we will check that sample size is big enough to model differences with a normal population"
   ]
  },
  {
   "cell_type": "code",
   "execution_count": 11,
   "metadata": {},
   "outputs": [
    {
     "name": "stdout",
     "output_type": "stream",
     "text": [
      "52.0\n",
      "47.0\n",
      "48.0\n",
      "53.0\n"
     ]
    }
   ],
   "source": [
    "print(n*R1)\n",
    "print(n*R2)\n",
    "print(n*D1)\n",
    "print(n*D2)"
   ]
  },
  {
   "cell_type": "markdown",
   "metadata": {},
   "source": [
    "Hence we can see that the sample size are large than 10.So we can conclude\n",
    "1. In this context, populations are considered to be large if they are at least 10 times bigger than their sample.\n",
    "2. The samples are independent from assumptions.\n",
    "3. The set of differences between sample proportions will be normally distributed(central limit theoem)."
   ]
  },
  {
   "cell_type": "markdown",
   "metadata": {},
   "source": [
    "\n",
    "This problem requires us to find the probability that R1 is less than R2. This is equivalent to finding the probability \n",
    "that R1 - R2 is less than zero. \n",
    "\n",
    "To find this probability, we need to transform the random variable (R1 - R2) into a z-score."
   ]
  },
  {
   "cell_type": "code",
   "execution_count": 12,
   "metadata": {},
   "outputs": [
    {
     "data": {
      "text/plain": [
       "0.050000000000000044"
      ]
     },
     "execution_count": 12,
     "metadata": {},
     "output_type": "execute_result"
    }
   ],
   "source": [
    "mean_difference = R1-R2\n",
    "mean_difference"
   ]
  },
  {
   "cell_type": "code",
   "execution_count": 13,
   "metadata": {},
   "outputs": [
    {
     "data": {
      "text/plain": [
       "0.07061869440877536"
      ]
     },
     "execution_count": 13,
     "metadata": {},
     "output_type": "execute_result"
    }
   ],
   "source": [
    "standard_dev = math.sqrt ((R1 * (1-R1) / n)  + (R2 * (1-R2) / n) )\n",
    "standard_dev"
   ]
  },
  {
   "cell_type": "code",
   "execution_count": 14,
   "metadata": {},
   "outputs": [
    {
     "data": {
      "text/plain": [
       "-0.7080278164104213"
      ]
     },
     "execution_count": 14,
     "metadata": {},
     "output_type": "execute_result"
    }
   ],
   "source": [
    "z_score = ( 0 - mean_difference) / standard_dev\n",
    "z_score       # mod of z_score"
   ]
  },
  {
   "cell_type": "markdown",
   "metadata": {},
   "source": [
    "Using Normal Distribution Calculator, we find\n",
    "\n",
    "P(z <=0.7082) = 0.24"
   ]
  },
  {
   "cell_type": "code",
   "execution_count": 9,
   "metadata": {},
   "outputs": [
    {
     "data": {
      "text/plain": [
       "0.23946399182220013"
      ]
     },
     "execution_count": 9,
     "metadata": {},
     "output_type": "execute_result"
    }
   ],
   "source": [
    "p_value = scipy.special.ndtr(z_score)\n",
    "p_value"
   ]
  },
  {
   "cell_type": "code",
   "execution_count": 15,
   "metadata": {},
   "outputs": [
    {
     "name": "stdout",
     "output_type": "stream",
     "text": [
      "Hence, the probability that the survey will show a greater percentage of Republican voters in the second state than in the first state is 0.23946399182220013\n"
     ]
    }
   ],
   "source": [
    "print(\"Hence, the probability that the survey will show a greater percentage of Republican voters in the second state than in the first state is \" +str(p_value))"
   ]
  }
 ],
 "metadata": {
  "kernelspec": {
   "display_name": "Python 3",
   "language": "python",
   "name": "python3"
  },
  "language_info": {
   "codemirror_mode": {
    "name": "ipython",
    "version": 3
   },
   "file_extension": ".py",
   "mimetype": "text/x-python",
   "name": "python",
   "nbconvert_exporter": "python",
   "pygments_lexer": "ipython3",
   "version": "3.6.4"
  }
 },
 "nbformat": 4,
 "nbformat_minor": 2
}
